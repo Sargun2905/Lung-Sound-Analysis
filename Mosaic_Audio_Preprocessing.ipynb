{
 "cells": [
  {
   "cell_type": "markdown",
   "metadata": {
    "id": "40zfwuQp8H0P"
   },
   "source": [
    "#Audio Preprocessing"
   ]
  },
  {
   "cell_type": "markdown",
   "metadata": {
    "id": "xN8AwQ0A21wO"
   },
   "source": [
    "# importing .txt files and libraries"
   ]
  },
  {
   "cell_type": "code",
   "execution_count": 1,
   "metadata": {
    "id": "CDEm2tR87zTd"
   },
   "outputs": [],
   "source": [
    "import numpy as np # linear algebra\n",
    "import pandas as pd # data processing, CSV file I/O (e.g. pd.read_csv)\n",
    "import tensorflow as tf\n",
    "from tensorflow import keras\n",
    "import matplotlib.pyplot as plt\n",
    "import seaborn as sns\n",
    "import librosa.display\n",
    "import os"
   ]
  },
  {
   "cell_type": "markdown",
   "metadata": {
    "id": "ETYVazx25wOz"
   },
   "source": [
    "# Preprocessing .txt files"
   ]
  },
  {
   "cell_type": "code",
   "execution_count": 2,
   "metadata": {
    "colab": {
     "base_uri": "https://localhost:8080/"
    },
    "id": "hjyf7eq090op",
    "outputId": "88463481-1f55-4550-f01e-fe29f0c2bc18"
   },
   "outputs": [
    {
     "data": {
      "text/plain": [
       "['103_2b2_Ar_mc_LittC2SE',\n",
       " '105_1b1_Tc_sc_Meditron',\n",
       " '106_2b1_Pl_mc_LittC2SE',\n",
       " '106_2b1_Pr_mc_LittC2SE',\n",
       " '107_2b3_Al_mc_AKGC417L']"
      ]
     },
     "execution_count": 2,
     "metadata": {},
     "output_type": "execute_result"
    }
   ],
   "source": [
    "import os\n",
    "path='D:\\\\Downloads\\\\Lung-Disease-Audio-Classification\\\\ICBHI_final_database\\\\'\n",
    "files=[s.split('.')[0] for s in os.listdir(path) if '.txt' in s]\n",
    "files[:5]"
   ]
  },
  {
   "cell_type": "code",
   "execution_count": 3,
   "metadata": {
    "id": "x-bb0PD-_PrL"
   },
   "outputs": [],
   "source": [
    "#splitting filename after every underscore\n",
    "def getFilenameInfo(file):\n",
    "    return file.split('_')"
   ]
  },
  {
   "cell_type": "code",
   "execution_count": 4,
   "metadata": {
    "colab": {
     "base_uri": "https://localhost:8080/"
    },
    "id": "fPPqkOPt_TZs",
    "outputId": "4492f409-e403-4bc4-f466-99a726dd0ce6"
   },
   "outputs": [
    {
     "data": {
      "text/plain": [
       "['160', '1b3', 'Al', 'mc', 'AKGC417L']"
      ]
     },
     "execution_count": 4,
     "metadata": {},
     "output_type": "execute_result"
    }
   ],
   "source": [
    "getFilenameInfo('160_1b3_Al_mc_AKGC417L')"
   ]
  },
  {
   "cell_type": "markdown",
   "metadata": {
    "id": "eH_0w8Ke5N34"
   },
   "source": [
    "#### Creating a dataframe with columns containing starting time, end time presence or weezels ,Patient ID ,mode of collection and file name of the audio"
   ]
  },
  {
   "cell_type": "code",
   "execution_count": 5,
   "metadata": {
    "colab": {
     "base_uri": "https://localhost:8080/",
     "height": 204
    },
    "id": "y4Ci8LfQ_WI8",
    "outputId": "86e1b44c-fc33-4095-ea81-c1918eafe5c2"
   },
   "outputs": [
    {
     "data": {
      "text/html": [
       "<div>\n",
       "<style scoped>\n",
       "    .dataframe tbody tr th:only-of-type {\n",
       "        vertical-align: middle;\n",
       "    }\n",
       "\n",
       "    .dataframe tbody tr th {\n",
       "        vertical-align: top;\n",
       "    }\n",
       "\n",
       "    .dataframe thead th {\n",
       "        text-align: right;\n",
       "    }\n",
       "</style>\n",
       "<table border=\"1\" class=\"dataframe\">\n",
       "  <thead>\n",
       "    <tr style=\"text-align: right;\">\n",
       "      <th></th>\n",
       "      <th>start</th>\n",
       "      <th>end</th>\n",
       "      <th>crackles</th>\n",
       "      <th>weezels</th>\n",
       "      <th>pid</th>\n",
       "      <th>mode</th>\n",
       "      <th>filename</th>\n",
       "    </tr>\n",
       "  </thead>\n",
       "  <tbody>\n",
       "    <tr>\n",
       "      <th>0</th>\n",
       "      <td>0.364</td>\n",
       "      <td>3.250</td>\n",
       "      <td>0.0</td>\n",
       "      <td>1.0</td>\n",
       "      <td>103</td>\n",
       "      <td>mc</td>\n",
       "      <td>103_2b2_Ar_mc_LittC2SE</td>\n",
       "    </tr>\n",
       "    <tr>\n",
       "      <th>1</th>\n",
       "      <td>3.25</td>\n",
       "      <td>6.636</td>\n",
       "      <td>0.0</td>\n",
       "      <td>0.0</td>\n",
       "      <td>103</td>\n",
       "      <td>mc</td>\n",
       "      <td>103_2b2_Ar_mc_LittC2SE</td>\n",
       "    </tr>\n",
       "    <tr>\n",
       "      <th>2</th>\n",
       "      <td>6.636</td>\n",
       "      <td>11.179</td>\n",
       "      <td>0.0</td>\n",
       "      <td>1.0</td>\n",
       "      <td>103</td>\n",
       "      <td>mc</td>\n",
       "      <td>103_2b2_Ar_mc_LittC2SE</td>\n",
       "    </tr>\n",
       "    <tr>\n",
       "      <th>3</th>\n",
       "      <td>11.179</td>\n",
       "      <td>14.250</td>\n",
       "      <td>0.0</td>\n",
       "      <td>1.0</td>\n",
       "      <td>103</td>\n",
       "      <td>mc</td>\n",
       "      <td>103_2b2_Ar_mc_LittC2SE</td>\n",
       "    </tr>\n",
       "    <tr>\n",
       "      <th>4</th>\n",
       "      <td>14.25</td>\n",
       "      <td>16.993</td>\n",
       "      <td>0.0</td>\n",
       "      <td>1.0</td>\n",
       "      <td>103</td>\n",
       "      <td>mc</td>\n",
       "      <td>103_2b2_Ar_mc_LittC2SE</td>\n",
       "    </tr>\n",
       "  </tbody>\n",
       "</table>\n",
       "</div>"
      ],
      "text/plain": [
       "    start     end  crackles  weezels  pid mode                filename\n",
       "0   0.364   3.250       0.0      1.0  103   mc  103_2b2_Ar_mc_LittC2SE\n",
       "1    3.25   6.636       0.0      0.0  103   mc  103_2b2_Ar_mc_LittC2SE\n",
       "2   6.636  11.179       0.0      1.0  103   mc  103_2b2_Ar_mc_LittC2SE\n",
       "3  11.179  14.250       0.0      1.0  103   mc  103_2b2_Ar_mc_LittC2SE\n",
       "4   14.25  16.993       0.0      1.0  103   mc  103_2b2_Ar_mc_LittC2SE"
      ]
     },
     "execution_count": 5,
     "metadata": {},
     "output_type": "execute_result"
    }
   ],
   "source": [
    "files_data=[]\n",
    "for file in files:\n",
    "    data=pd.read_csv(path + file + '.txt',sep='\\t',names=['start','end','crackles','weezels'])\n",
    "    name_data=getFilenameInfo(file)\n",
    "    data['pid']=name_data[0]\n",
    "    data['mode']=name_data[-2]\n",
    "    data['filename']=file\n",
    "    files_data.append(data)\n",
    "files_df=pd.concat(files_data)\n",
    "files_df.reset_index()\n",
    "files_df.head()"
   ]
  },
  {
   "cell_type": "markdown",
   "metadata": {
    "id": "cDm7h4ZM5Uf0"
   },
   "source": [
    "#### Processing the files_df dataframe"
   ]
  },
  {
   "cell_type": "code",
   "execution_count": 6,
   "metadata": {
    "colab": {
     "base_uri": "https://localhost:8080/"
    },
    "id": "uHclx0Y5_a8v",
    "outputId": "6803fc9a-49ee-4840-ed89-3a7a4908e486"
   },
   "outputs": [
    {
     "name": "stdout",
     "output_type": "stream",
     "text": [
      "<class 'pandas.core.frame.DataFrame'>\n",
      "Index: 6207 entries, 0 to 5\n",
      "Data columns (total 7 columns):\n",
      " #   Column    Non-Null Count  Dtype  \n",
      "---  ------    --------------  -----  \n",
      " 0   start     6207 non-null   object \n",
      " 1   end       6110 non-null   float64\n",
      " 2   crackles  6110 non-null   float64\n",
      " 3   weezels   6110 non-null   float64\n",
      " 4   pid       6207 non-null   object \n",
      " 5   mode      6207 non-null   object \n",
      " 6   filename  6207 non-null   object \n",
      "dtypes: float64(3), object(4)\n",
      "memory usage: 387.9+ KB\n"
     ]
    }
   ],
   "source": [
    "files_df.info()"
   ]
  },
  {
   "cell_type": "code",
   "execution_count": 7,
   "metadata": {
    "colab": {
     "base_uri": "https://localhost:8080/",
     "height": 419
    },
    "id": "rOeHdIOfenKJ",
    "outputId": "12e4872f-3803-4d0a-a525-6e3ff90f7396"
   },
   "outputs": [
    {
     "data": {
      "text/html": [
       "<div>\n",
       "<style scoped>\n",
       "    .dataframe tbody tr th:only-of-type {\n",
       "        vertical-align: middle;\n",
       "    }\n",
       "\n",
       "    .dataframe tbody tr th {\n",
       "        vertical-align: top;\n",
       "    }\n",
       "\n",
       "    .dataframe thead th {\n",
       "        text-align: right;\n",
       "    }\n",
       "</style>\n",
       "<table border=\"1\" class=\"dataframe\">\n",
       "  <thead>\n",
       "    <tr style=\"text-align: right;\">\n",
       "      <th></th>\n",
       "      <th>start</th>\n",
       "      <th>end</th>\n",
       "      <th>crackles</th>\n",
       "      <th>weezels</th>\n",
       "      <th>pid</th>\n",
       "      <th>mode</th>\n",
       "      <th>filename</th>\n",
       "    </tr>\n",
       "  </thead>\n",
       "  <tbody>\n",
       "    <tr>\n",
       "      <th>0</th>\n",
       "      <td>'101_1b1_Al_sc_AKGC417L'</td>\n",
       "      <td>NaN</td>\n",
       "      <td>NaN</td>\n",
       "      <td>NaN</td>\n",
       "      <td>filename</td>\n",
       "      <td>filename</td>\n",
       "      <td>filename_differences</td>\n",
       "    </tr>\n",
       "    <tr>\n",
       "      <th>1</th>\n",
       "      <td>'101_1b1_Pr_sc_AKGC417L'</td>\n",
       "      <td>NaN</td>\n",
       "      <td>NaN</td>\n",
       "      <td>NaN</td>\n",
       "      <td>filename</td>\n",
       "      <td>filename</td>\n",
       "      <td>filename_differences</td>\n",
       "    </tr>\n",
       "    <tr>\n",
       "      <th>2</th>\n",
       "      <td>'102_1b1_Ar_sc_AKGC417L'</td>\n",
       "      <td>NaN</td>\n",
       "      <td>NaN</td>\n",
       "      <td>NaN</td>\n",
       "      <td>filename</td>\n",
       "      <td>filename</td>\n",
       "      <td>filename_differences</td>\n",
       "    </tr>\n",
       "    <tr>\n",
       "      <th>3</th>\n",
       "      <td>'105_1b1_Tc_sc_LittC2SE'</td>\n",
       "      <td>NaN</td>\n",
       "      <td>NaN</td>\n",
       "      <td>NaN</td>\n",
       "      <td>filename</td>\n",
       "      <td>filename</td>\n",
       "      <td>filename_differences</td>\n",
       "    </tr>\n",
       "    <tr>\n",
       "      <th>4</th>\n",
       "      <td>'108_1b1_Al_sc_LittC2SE'</td>\n",
       "      <td>NaN</td>\n",
       "      <td>NaN</td>\n",
       "      <td>NaN</td>\n",
       "      <td>filename</td>\n",
       "      <td>filename</td>\n",
       "      <td>filename_differences</td>\n",
       "    </tr>\n",
       "    <tr>\n",
       "      <th>...</th>\n",
       "      <td>...</td>\n",
       "      <td>...</td>\n",
       "      <td>...</td>\n",
       "      <td>...</td>\n",
       "      <td>...</td>\n",
       "      <td>...</td>\n",
       "      <td>...</td>\n",
       "    </tr>\n",
       "    <tr>\n",
       "      <th>1</th>\n",
       "      <td>Patient number (101,102,...,226)</td>\n",
       "      <td>NaN</td>\n",
       "      <td>NaN</td>\n",
       "      <td>NaN</td>\n",
       "      <td>filename</td>\n",
       "      <td>filename</td>\n",
       "      <td>filename_format</td>\n",
       "    </tr>\n",
       "    <tr>\n",
       "      <th>2</th>\n",
       "      <td>Recording index</td>\n",
       "      <td>NaN</td>\n",
       "      <td>NaN</td>\n",
       "      <td>NaN</td>\n",
       "      <td>filename</td>\n",
       "      <td>filename</td>\n",
       "      <td>filename_format</td>\n",
       "    </tr>\n",
       "    <tr>\n",
       "      <th>3</th>\n",
       "      <td>Chest location (Trachea (Tc), {Anterior (A), P...</td>\n",
       "      <td>NaN</td>\n",
       "      <td>NaN</td>\n",
       "      <td>NaN</td>\n",
       "      <td>filename</td>\n",
       "      <td>filename</td>\n",
       "      <td>filename_format</td>\n",
       "    </tr>\n",
       "    <tr>\n",
       "      <th>4</th>\n",
       "      <td>Acquisition mode (sequential/single channel (s...</td>\n",
       "      <td>NaN</td>\n",
       "      <td>NaN</td>\n",
       "      <td>NaN</td>\n",
       "      <td>filename</td>\n",
       "      <td>filename</td>\n",
       "      <td>filename_format</td>\n",
       "    </tr>\n",
       "    <tr>\n",
       "      <th>5</th>\n",
       "      <td>Recording equipment (AKG C417L Microphone, 3M ...</td>\n",
       "      <td>NaN</td>\n",
       "      <td>NaN</td>\n",
       "      <td>NaN</td>\n",
       "      <td>filename</td>\n",
       "      <td>filename</td>\n",
       "      <td>filename_format</td>\n",
       "    </tr>\n",
       "  </tbody>\n",
       "</table>\n",
       "<p>97 rows × 7 columns</p>\n",
       "</div>"
      ],
      "text/plain": [
       "                                                start  end  crackles  weezels  \\\n",
       "0                            '101_1b1_Al_sc_AKGC417L'  NaN       NaN      NaN   \n",
       "1                            '101_1b1_Pr_sc_AKGC417L'  NaN       NaN      NaN   \n",
       "2                            '102_1b1_Ar_sc_AKGC417L'  NaN       NaN      NaN   \n",
       "3                            '105_1b1_Tc_sc_LittC2SE'  NaN       NaN      NaN   \n",
       "4                            '108_1b1_Al_sc_LittC2SE'  NaN       NaN      NaN   \n",
       "..                                                ...  ...       ...      ...   \n",
       "1                    Patient number (101,102,...,226)  NaN       NaN      NaN   \n",
       "2                                     Recording index  NaN       NaN      NaN   \n",
       "3   Chest location (Trachea (Tc), {Anterior (A), P...  NaN       NaN      NaN   \n",
       "4   Acquisition mode (sequential/single channel (s...  NaN       NaN      NaN   \n",
       "5   Recording equipment (AKG C417L Microphone, 3M ...  NaN       NaN      NaN   \n",
       "\n",
       "         pid      mode              filename  \n",
       "0   filename  filename  filename_differences  \n",
       "1   filename  filename  filename_differences  \n",
       "2   filename  filename  filename_differences  \n",
       "3   filename  filename  filename_differences  \n",
       "4   filename  filename  filename_differences  \n",
       "..       ...       ...                   ...  \n",
       "1   filename  filename       filename_format  \n",
       "2   filename  filename       filename_format  \n",
       "3   filename  filename       filename_format  \n",
       "4   filename  filename       filename_format  \n",
       "5   filename  filename       filename_format  \n",
       "\n",
       "[97 rows x 7 columns]"
      ]
     },
     "execution_count": 7,
     "metadata": {},
     "output_type": "execute_result"
    }
   ],
   "source": [
    "files_df[pd.isnull(files_df).any(axis=1)]"
   ]
  },
  {
   "cell_type": "code",
   "execution_count": 8,
   "metadata": {
    "id": "4gyt2-Hofds6"
   },
   "outputs": [],
   "source": [
    "#removing all Nan values\n",
    "files_df.dropna(inplace=True)"
   ]
  },
  {
   "cell_type": "code",
   "execution_count": 9,
   "metadata": {
    "id": "gDBA3I0BnYQb"
   },
   "outputs": [],
   "source": [
    "files_df['start'] = files_df['start'].astype(float)"
   ]
  },
  {
   "cell_type": "code",
   "execution_count": 10,
   "metadata": {
    "colab": {
     "base_uri": "https://localhost:8080/"
    },
    "id": "QPCVsA5sfdjk",
    "outputId": "b3973a08-27a1-4a24-c403-f42e532f7026"
   },
   "outputs": [
    {
     "name": "stdout",
     "output_type": "stream",
     "text": [
      "<class 'pandas.core.frame.DataFrame'>\n",
      "Index: 6110 entries, 0 to 10\n",
      "Data columns (total 7 columns):\n",
      " #   Column    Non-Null Count  Dtype  \n",
      "---  ------    --------------  -----  \n",
      " 0   start     6110 non-null   float64\n",
      " 1   end       6110 non-null   float64\n",
      " 2   crackles  6110 non-null   float64\n",
      " 3   weezels   6110 non-null   float64\n",
      " 4   pid       6110 non-null   object \n",
      " 5   mode      6110 non-null   object \n",
      " 6   filename  6110 non-null   object \n",
      "dtypes: float64(4), object(3)\n",
      "memory usage: 381.9+ KB\n"
     ]
    }
   ],
   "source": [
    "files_df.info()"
   ]
  },
  {
   "cell_type": "code",
   "execution_count": 11,
   "metadata": {
    "colab": {
     "base_uri": "https://localhost:8080/",
     "height": 204
    },
    "id": "v1FbmKr0fnOD",
    "outputId": "dab12107-45e8-4b76-cb7c-414060fdf8d3"
   },
   "outputs": [
    {
     "data": {
      "text/html": [
       "<div>\n",
       "<style scoped>\n",
       "    .dataframe tbody tr th:only-of-type {\n",
       "        vertical-align: middle;\n",
       "    }\n",
       "\n",
       "    .dataframe tbody tr th {\n",
       "        vertical-align: top;\n",
       "    }\n",
       "\n",
       "    .dataframe thead th {\n",
       "        text-align: right;\n",
       "    }\n",
       "</style>\n",
       "<table border=\"1\" class=\"dataframe\">\n",
       "  <thead>\n",
       "    <tr style=\"text-align: right;\">\n",
       "      <th></th>\n",
       "      <th>start</th>\n",
       "      <th>end</th>\n",
       "      <th>crackles</th>\n",
       "      <th>weezels</th>\n",
       "      <th>pid</th>\n",
       "      <th>mode</th>\n",
       "      <th>filename</th>\n",
       "    </tr>\n",
       "  </thead>\n",
       "  <tbody>\n",
       "    <tr>\n",
       "      <th>0</th>\n",
       "      <td>0.364</td>\n",
       "      <td>3.250</td>\n",
       "      <td>0.0</td>\n",
       "      <td>1.0</td>\n",
       "      <td>103</td>\n",
       "      <td>mc</td>\n",
       "      <td>103_2b2_Ar_mc_LittC2SE</td>\n",
       "    </tr>\n",
       "    <tr>\n",
       "      <th>1</th>\n",
       "      <td>3.250</td>\n",
       "      <td>6.636</td>\n",
       "      <td>0.0</td>\n",
       "      <td>0.0</td>\n",
       "      <td>103</td>\n",
       "      <td>mc</td>\n",
       "      <td>103_2b2_Ar_mc_LittC2SE</td>\n",
       "    </tr>\n",
       "    <tr>\n",
       "      <th>2</th>\n",
       "      <td>6.636</td>\n",
       "      <td>11.179</td>\n",
       "      <td>0.0</td>\n",
       "      <td>1.0</td>\n",
       "      <td>103</td>\n",
       "      <td>mc</td>\n",
       "      <td>103_2b2_Ar_mc_LittC2SE</td>\n",
       "    </tr>\n",
       "    <tr>\n",
       "      <th>3</th>\n",
       "      <td>11.179</td>\n",
       "      <td>14.250</td>\n",
       "      <td>0.0</td>\n",
       "      <td>1.0</td>\n",
       "      <td>103</td>\n",
       "      <td>mc</td>\n",
       "      <td>103_2b2_Ar_mc_LittC2SE</td>\n",
       "    </tr>\n",
       "    <tr>\n",
       "      <th>4</th>\n",
       "      <td>14.250</td>\n",
       "      <td>16.993</td>\n",
       "      <td>0.0</td>\n",
       "      <td>1.0</td>\n",
       "      <td>103</td>\n",
       "      <td>mc</td>\n",
       "      <td>103_2b2_Ar_mc_LittC2SE</td>\n",
       "    </tr>\n",
       "  </tbody>\n",
       "</table>\n",
       "</div>"
      ],
      "text/plain": [
       "    start     end  crackles  weezels  pid mode                filename\n",
       "0   0.364   3.250       0.0      1.0  103   mc  103_2b2_Ar_mc_LittC2SE\n",
       "1   3.250   6.636       0.0      0.0  103   mc  103_2b2_Ar_mc_LittC2SE\n",
       "2   6.636  11.179       0.0      1.0  103   mc  103_2b2_Ar_mc_LittC2SE\n",
       "3  11.179  14.250       0.0      1.0  103   mc  103_2b2_Ar_mc_LittC2SE\n",
       "4  14.250  16.993       0.0      1.0  103   mc  103_2b2_Ar_mc_LittC2SE"
      ]
     },
     "execution_count": 11,
     "metadata": {},
     "output_type": "execute_result"
    }
   ],
   "source": [
    "files_df.head()"
   ]
  },
  {
   "cell_type": "code",
   "execution_count": 24,
   "metadata": {
    "id": "KkqjB6jWocDp"
   },
   "outputs": [
    {
     "name": "stderr",
     "output_type": "stream",
     "text": [
      "'cp' is not recognized as an internal or external command,\n",
      "operable program or batch file.\n"
     ]
    }
   ],
   "source": [
    "# Saving the DataFrame to a CSV in a specified directory on your local device\n",
    "files_df.to_csv('files_df.csv', index = False)\n",
    "!cp files_df.csv \"D:\\\\Downloads\\\\Lung-Disease-Audio-Classification\\\\\""
   ]
  },
  {
   "cell_type": "markdown",
   "metadata": {
    "id": "N5EWKsvND3K5"
   },
   "source": [
    "#Audio Preprocessing"
   ]
  },
  {
   "cell_type": "code",
   "execution_count": 23,
   "metadata": {},
   "outputs": [
    {
     "ename": "FileExistsError",
     "evalue": "[WinError 183] Cannot create a file when that file already exists: 'D:\\\\Downloads\\\\Lung-Disease-Audio-Classification\\\\processed_audio_files'",
     "output_type": "error",
     "traceback": [
      "\u001b[1;31m---------------------------------------------------------------------------\u001b[0m",
      "\u001b[1;31mFileExistsError\u001b[0m                           Traceback (most recent call last)",
      "Cell \u001b[1;32mIn[23], line 1\u001b[0m\n\u001b[1;32m----> 1\u001b[0m \u001b[43mos\u001b[49m\u001b[38;5;241;43m.\u001b[39;49m\u001b[43mmkdir\u001b[49m\u001b[43m(\u001b[49m\u001b[38;5;124;43m'\u001b[39;49m\u001b[38;5;124;43mD:\u001b[39;49m\u001b[38;5;130;43;01m\\\\\u001b[39;49;00m\u001b[38;5;124;43mDownloads\u001b[39;49m\u001b[38;5;130;43;01m\\\\\u001b[39;49;00m\u001b[38;5;124;43mLung-Disease-Audio-Classification\u001b[39;49m\u001b[38;5;130;43;01m\\\\\u001b[39;49;00m\u001b[38;5;124;43mprocessed_audio_files\u001b[39;49m\u001b[38;5;124;43m'\u001b[39;49m\u001b[43m)\u001b[49m\n",
      "\u001b[1;31mFileExistsError\u001b[0m: [WinError 183] Cannot create a file when that file already exists: 'D:\\\\Downloads\\\\Lung-Disease-Audio-Classification\\\\processed_audio_files'"
     ]
    }
   ],
   "source": [
    "os.mkdir('D:\\\\Downloads\\\\Lung-Disease-Audio-Classification\\\\processed_audio_files')"
   ]
  },
  {
   "cell_type": "code",
   "execution_count": 17,
   "metadata": {
    "id": "XUkE3AenFVho"
   },
   "outputs": [],
   "source": [
    "#Takes a numpy array and spilts its using start and end args raw_data=numpy array of audio sample start=time end=time sr=sampling_rate mode=mono/stereo\n",
    "    \n",
    "def getPureSample(raw_data,start,end,sr=22050):\n",
    "    \n",
    "    max_ind = len(raw_data) \n",
    "    start_ind = min(int(start * sr), max_ind)\n",
    "    end_ind = min(int(end * sr), max_ind)\n",
    "    return raw_data[start_ind: end_ind]"
   ]
  },
  {
   "cell_type": "code",
   "execution_count": 18,
   "metadata": {
    "colab": {
     "base_uri": "https://localhost:8080/"
    },
    "id": "jLGsYR2lGi2T",
    "outputId": "99b23876-072a-431a-c3bb-359f6ec95387"
   },
   "outputs": [
    {
     "name": "stdout",
     "output_type": "stream",
     "text": [
      "Index -> 0\n",
      "Data->\n",
      " start                        0.364\n",
      "end                           3.25\n",
      "crackles                       0.0\n",
      "weezels                        1.0\n",
      "pid                            103\n",
      "mode                            mc\n",
      "filename    103_2b2_Ar_mc_LittC2SE\n",
      "Name: 0, dtype: object\n"
     ]
    }
   ],
   "source": [
    "for index,row in files_df.iterrows():\n",
    "    print(\"Index ->\",index)\n",
    "    print(\"Data->\\n\",row)\n",
    "    break"
   ]
  },
  {
   "cell_type": "markdown",
   "metadata": {
    "id": "yYtYhYRH6LIb"
   },
   "source": [
    "#### Preprocess all the audios in the dataset using a for loop.\n",
    "First we store start and end values of audios and then access the audio themselves using their filenames.\n",
    "<p>Then we change the lengths of audios if they are shorter or longer then a particular length(6 seconds). Shorter audios are padded and longer audios are clipped.</p>\n",
    "<p> The audios are then saved in new folder called preprocessed audios where they will be used for training on a neural network</p>"
   ]
  },
  {
   "cell_type": "code",
   "execution_count": 21,
   "metadata": {
    "colab": {
     "base_uri": "https://localhost:8080/"
    },
    "id": "0xgG13OdE_OJ",
    "outputId": "165fdf59-cb85-439d-e0ed-391b50543aa7"
   },
   "outputs": [
    {
     "name": "stdout",
     "output_type": "stream",
     "text": [
      "Total Files Processed:  6110\n"
     ]
    }
   ],
   "source": [
    "import librosa as lb\n",
    "import soundfile as sf\n",
    "i,c=0,0\n",
    "for index,row in files_df.iterrows():\n",
    "    maxLen=6\n",
    "    start=row['start']\n",
    "    end=row['end']\n",
    "    filename=row['filename']\n",
    "    \n",
    "    #If len > maxLen , change it to maxLen\n",
    "    if end-start>maxLen:\n",
    "        end=start+maxLen\n",
    "    \n",
    "    audio_file_loc=path + filename + '.wav'\n",
    "    \n",
    "    if index > 0:\n",
    "        #check if more cycles exits for same patient if so then add i to change filename\n",
    "        if files_df.iloc[index-1]['filename']==filename:\n",
    "            i+=1\n",
    "        else:\n",
    "            i=0\n",
    "    filename= filename + '.wav'\n",
    "    \n",
    "    save_path='D:\\\\Downloads\\\\Lung-Disease-Audio-Classification\\\\processed_audio_files\\\\' + filename\n",
    "    c+=1\n",
    "    \n",
    "    audioArr,sampleRate=lb.load(audio_file_loc)\n",
    "    pureSample=getPureSample(audioArr,start,end,sampleRate)\n",
    "    \n",
    "    \n",
    "    reqLen = 6 * sampleRate\n",
    "    padded_data = lb.util.pad_center(pureSample, size = reqLen)\n",
    "    # if len(pureSample) < reqLen:\n",
    "    #     pad_width = (reqLen - len(pureSample)) // 2\n",
    "    #     padded_data = np.pad(pureSample, (pad_width, reqLen - len(pureSample) - pad_width), mode='constant')\n",
    "    # else:\n",
    "    #     padded_data = pureSample  # No padding needed if already at required length\n",
    "    \n",
    "    \n",
    "    sf.write(file=save_path,data=padded_data,samplerate=sampleRate)\n",
    "print('Total Files Processed: ',c)"
   ]
  },
  {
   "cell_type": "markdown",
   "metadata": {
    "id": "FZImLQhc7Sez"
   },
   "source": [
    "In total we processed 6110 files."
   ]
  }
 ],
 "metadata": {
  "accelerator": "GPU",
  "colab": {
   "provenance": []
  },
  "gpuClass": "standard",
  "kernelspec": {
   "display_name": "Python 3 (ipykernel)",
   "language": "python",
   "name": "python3"
  },
  "language_info": {
   "codemirror_mode": {
    "name": "ipython",
    "version": 3
   },
   "file_extension": ".py",
   "mimetype": "text/x-python",
   "name": "python",
   "nbconvert_exporter": "python",
   "pygments_lexer": "ipython3",
   "version": "3.12.4"
  }
 },
 "nbformat": 4,
 "nbformat_minor": 4
}
